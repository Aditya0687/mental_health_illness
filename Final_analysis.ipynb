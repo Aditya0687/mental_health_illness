{
  "nbformat": 4,
  "nbformat_minor": 0,
  "metadata": {
    "colab": {
      "name": "Final_analysis.ipynb",
      "provenance": [],
      "collapsed_sections": [
        "acHQceJkGuYi"
      ]
    },
    "kernelspec": {
      "name": "python3",
      "display_name": "Python 3"
    }
  },
  "cells": [
    {
      "cell_type": "markdown",
      "metadata": {
        "id": "jCwko3DAAFgn",
        "colab_type": "text"
      },
      "source": [
        "# Analysing the cleaned Data"
      ]
    },
    {
      "cell_type": "code",
      "metadata": {
        "id": "mAIDcMCpAB01",
        "colab_type": "code",
        "outputId": "3d2c4f4c-6f5d-4f70-8942-eba7a9deba09",
        "colab": {
          "base_uri": "https://localhost:8080/",
          "height": 129
        }
      },
      "source": [
        "! git clone https://github.com/oke-aditya/Mental_Health_Analysis.git"
      ],
      "execution_count": 1,
      "outputs": [
        {
          "output_type": "stream",
          "text": [
            "Cloning into 'Mental_Health_Analysis'...\n",
            "remote: Enumerating objects: 26, done.\u001b[K\n",
            "remote: Counting objects:   3% (1/26)\u001b[K\rremote: Counting objects:   7% (2/26)\u001b[K\rremote: Counting objects:  11% (3/26)\u001b[K\rremote: Counting objects:  15% (4/26)\u001b[K\rremote: Counting objects:  19% (5/26)\u001b[K\rremote: Counting objects:  23% (6/26)\u001b[K\rremote: Counting objects:  26% (7/26)\u001b[K\rremote: Counting objects:  30% (8/26)\u001b[K\rremote: Counting objects:  34% (9/26)\u001b[K\rremote: Counting objects:  38% (10/26)\u001b[K\rremote: Counting objects:  42% (11/26)\u001b[K\rremote: Counting objects:  46% (12/26)\u001b[K\rremote: Counting objects:  50% (13/26)\u001b[K\rremote: Counting objects:  53% (14/26)\u001b[K\rremote: Counting objects:  57% (15/26)\u001b[K\rremote: Counting objects:  61% (16/26)\u001b[K\rremote: Counting objects:  65% (17/26)\u001b[K\rremote: Counting objects:  69% (18/26)\u001b[K\rremote: Counting objects:  73% (19/26)\u001b[K\rremote: Counting objects:  76% (20/26)\u001b[K\rremote: Counting objects:  80% (21/26)\u001b[K\rremote: Counting objects:  84% (22/26)\u001b[K\rremote: Counting objects:  88% (23/26)\u001b[K\rremote: Counting objects:  92% (24/26)\u001b[K\rremote: Counting objects:  96% (25/26)\u001b[K\rremote: Counting objects: 100% (26/26)\u001b[K\rremote: Counting objects: 100% (26/26), done.\u001b[K\n",
            "remote: Compressing objects:   4% (1/22)\u001b[K\rremote: Compressing objects:   9% (2/22)\u001b[K\rremote: Compressing objects:  13% (3/22)\u001b[K\rremote: Compressing objects:  18% (4/22)\u001b[K\rremote: Compressing objects:  22% (5/22)\u001b[K\rremote: Compressing objects:  27% (6/22)\u001b[K\rremote: Compressing objects:  31% (7/22)\u001b[K\rremote: Compressing objects:  36% (8/22)\u001b[K\rremote: Compressing objects:  40% (9/22)\u001b[K\rremote: Compressing objects:  45% (10/22)\u001b[K\rremote: Compressing objects:  50% (11/22)\u001b[K\rremote: Compressing objects:  54% (12/22)\u001b[K\rremote: Compressing objects:  59% (13/22)\u001b[K\rremote: Compressing objects:  63% (14/22)\u001b[K\rremote: Compressing objects:  68% (15/22)\u001b[K\rremote: Compressing objects:  72% (16/22)\u001b[K\rremote: Compressing objects:  77% (17/22)\u001b[K\rremote: Compressing objects:  81% (18/22)\u001b[K\rremote: Compressing objects:  86% (19/22)\u001b[K\rremote: Compressing objects:  90% (20/22)\u001b[K\rremote: Compressing objects:  95% (21/22)\u001b[K\rremote: Compressing objects: 100% (22/22)\u001b[K\rremote: Compressing objects: 100% (22/22), done.\u001b[K\n",
            "Unpacking objects:   3% (1/26)   \rUnpacking objects:   7% (2/26)   \rUnpacking objects:  11% (3/26)   \rUnpacking objects:  15% (4/26)   \rUnpacking objects:  19% (5/26)   \rUnpacking objects:  23% (6/26)   \rUnpacking objects:  26% (7/26)   \rUnpacking objects:  30% (8/26)   \rUnpacking objects:  34% (9/26)   \rUnpacking objects:  38% (10/26)   \rUnpacking objects:  42% (11/26)   \rUnpacking objects:  46% (12/26)   \rUnpacking objects:  50% (13/26)   \rUnpacking objects:  53% (14/26)   \rUnpacking objects:  57% (15/26)   \rUnpacking objects:  61% (16/26)   \rremote: Total 26 (delta 11), reused 11 (delta 4), pack-reused 0\u001b[K\n",
            "Unpacking objects:  65% (17/26)   \rUnpacking objects:  69% (18/26)   \rUnpacking objects:  73% (19/26)   \rUnpacking objects:  76% (20/26)   \rUnpacking objects:  80% (21/26)   \rUnpacking objects:  84% (22/26)   \rUnpacking objects:  88% (23/26)   \rUnpacking objects:  92% (24/26)   \rUnpacking objects:  96% (25/26)   \rUnpacking objects: 100% (26/26)   \rUnpacking objects: 100% (26/26), done.\n"
          ],
          "name": "stdout"
        }
      ]
    },
    {
      "cell_type": "code",
      "metadata": {
        "id": "sRF4yDI7AIpy",
        "colab_type": "code",
        "colab": {}
      },
      "source": [
        "import pandas as pd\n",
        "import numpy as np\n",
        "import joblib\n",
        "from sklearn.model_selection import train_test_split\n",
        "from sklearn import metrics"
      ],
      "execution_count": 0,
      "outputs": []
    },
    {
      "cell_type": "code",
      "metadata": {
        "id": "Fuf9XuPbAPm5",
        "colab_type": "code",
        "colab": {}
      },
      "source": [
        "df = pd.read_csv(\"/content/Mental_Health_Analysis/cleaned_osmi.csv\")"
      ],
      "execution_count": 0,
      "outputs": []
    },
    {
      "cell_type": "markdown",
      "metadata": {
        "id": "acHQceJkGuYi",
        "colab_type": "text"
      },
      "source": [
        "# Clean up Categorical Data"
      ]
    },
    {
      "cell_type": "code",
      "metadata": {
        "id": "8uNDyOSfBOon",
        "colab_type": "code",
        "colab": {}
      },
      "source": [
        "from sklearn import preprocessing\n",
        "from pprint import pprint"
      ],
      "execution_count": 0,
      "outputs": []
    },
    {
      "cell_type": "code",
      "metadata": {
        "id": "ynd9-AhcASgZ",
        "colab_type": "code",
        "colab": {
          "base_uri": "https://localhost:8080/",
          "height": 618
        },
        "outputId": "c5719aa0-6c42-480c-91dc-721b4536815f"
      },
      "source": [
        "df.head(2)"
      ],
      "execution_count": 5,
      "outputs": [
        {
          "output_type": "execute_result",
          "data": {
            "text/html": [
              "<div>\n",
              "<style scoped>\n",
              "    .dataframe tbody tr th:only-of-type {\n",
              "        vertical-align: middle;\n",
              "    }\n",
              "\n",
              "    .dataframe tbody tr th {\n",
              "        vertical-align: top;\n",
              "    }\n",
              "\n",
              "    .dataframe thead th {\n",
              "        text-align: right;\n",
              "    }\n",
              "</style>\n",
              "<table border=\"1\" class=\"dataframe\">\n",
              "  <thead>\n",
              "    <tr style=\"text-align: right;\">\n",
              "      <th></th>\n",
              "      <th>*Are you self-employed?*</th>\n",
              "      <th>How many employees does your company or organization have?</th>\n",
              "      <th>Is your employer primarily a tech company/organization?</th>\n",
              "      <th>Is your primary role within your company related to tech/IT?</th>\n",
              "      <th>Does your employer provide mental health benefits as part of healthcare coverage?</th>\n",
              "      <th>Do you know the options for mental health care available under your employer-provided health coverage?</th>\n",
              "      <th>Has your employer ever formally discussed mental health (for example, as part of a wellness campaign or other official communication)?</th>\n",
              "      <th>Does your employer offer resources to learn more about mental health disorders and options for seeking help?</th>\n",
              "      <th>Is your anonymity protected if you choose to take advantage of mental health or substance abuse treatment resources provided by your employer?</th>\n",
              "      <th>If a mental health issue prompted you to request a medical leave from work, how easy or difficult would it be to ask for that leave?</th>\n",
              "      <th>Would you feel more comfortable talking to your coworkers about your physical health or your mental health?</th>\n",
              "      <th>Would you feel comfortable discussing a mental health issue with your direct supervisor(s)?</th>\n",
              "      <th>Have you ever discussed your mental health with your employer?</th>\n",
              "      <th>Would you feel comfortable discussing a mental health issue with your coworkers?</th>\n",
              "      <th>Have you ever discussed your mental health with coworkers?</th>\n",
              "      <th>Have you ever had a coworker discuss their or another coworker's mental health with you?</th>\n",
              "      <th>Overall, how much importance does your employer place on physical health?</th>\n",
              "      <th>Overall, how much importance does your employer place on mental health?</th>\n",
              "      <th>*Do you have previous employers?*</th>\n",
              "      <th>Was your employer primarily a tech company/organization?</th>\n",
              "      <th>Have your previous employers provided mental health benefits?</th>\n",
              "      <th>Were you aware of the options for mental health care provided by your previous employers?</th>\n",
              "      <th>Did your previous employers ever formally discuss mental health (as part of a wellness campaign or other official communication)?</th>\n",
              "      <th>Did your previous employers provide resources to learn more about mental health disorders and how to seek help?</th>\n",
              "      <th>Was your anonymity protected if you chose to take advantage of mental health or substance abuse treatment resources with previous employers?</th>\n",
              "      <th>Would you have felt more comfortable talking to your previous employer about your physical health or your mental health?</th>\n",
              "      <th>Would you have been willing to discuss your mental health with your direct supervisor(s)?</th>\n",
              "      <th>Did you ever discuss your mental health with your previous employer?</th>\n",
              "      <th>Would you have been willing to discuss your mental health with your coworkers at previous employers?</th>\n",
              "      <th>Did you ever discuss your mental health with a previous coworker(s)?</th>\n",
              "      <th>Did you ever have a previous coworker discuss their or another coworker's mental health with you?</th>\n",
              "      <th>Overall, how much importance did your previous employer place on physical health?</th>\n",
              "      <th>Overall, how much importance did your previous employer place on mental health?</th>\n",
              "      <th>Do you *currently* have a mental health disorder?</th>\n",
              "      <th>Have you ever been *diagnosed* with a mental health disorder?</th>\n",
              "      <th>*If so, what disorder(s) were you diagnosed with?*</th>\n",
              "      <th>Have you had a mental health disorder in the past?</th>\n",
              "      <th>Have you ever sought treatment for a mental health disorder from a mental health professional?</th>\n",
              "      <th>Do you have a family history of mental illness?</th>\n",
              "      <th>If you have a mental health disorder, how often do you feel that it interferes with your work *when being treated effectively?*</th>\n",
              "      <th>If you have a mental health disorder, how often do you feel that it interferes with your work *when* _*NOT*_* being treated effectively (i.e., when you are experiencing symptoms)?*</th>\n",
              "      <th>Have your observations of how another individual who discussed a mental health issue made you less likely to reveal a mental health issue yourself in your current workplace?</th>\n",
              "      <th>How willing would you be to share with friends and family that you have a mental illness?</th>\n",
              "      <th>Would you be willing to bring up a physical health issue with a potential employer in an interview?</th>\n",
              "      <th>Why or why not?</th>\n",
              "      <th>Would you bring up your *mental* health with a potential employer in an interview?</th>\n",
              "      <th>Why or why not?.1</th>\n",
              "      <th>Are you openly identified at work as a person with a mental health issue?</th>\n",
              "      <th>If they knew you suffered from a mental health disorder, how do you think that your team members/co-workers would react?</th>\n",
              "      <th>Have you observed or experienced an *unsupportive or badly handled response* to a mental health issue in your current or previous workplace?</th>\n",
              "      <th>Have you observed or experienced a *supportive or well handled response* to a mental health issue in your current or previous workplace?</th>\n",
              "      <th>Overall, how well do you think the tech industry supports employees with mental health issues?</th>\n",
              "      <th>Briefly describe what you think the industry as a whole and/or employers could do to improve mental health support for employees.</th>\n",
              "      <th>Would you be willing to talk to one of us more extensively about your experiences with mental health issues in the tech industry? (Note that all interview responses would be used _anonymously_ and only with your permission.)</th>\n",
              "      <th>What is your age?</th>\n",
              "      <th>What is your gender?</th>\n",
              "      <th>What country do you *live* in?</th>\n",
              "      <th>What US state or territory do you *live* in?</th>\n",
              "      <th>What is your race?</th>\n",
              "      <th>What country do you *work* in?</th>\n",
              "      <th>What US state or territory do you *work* in?</th>\n",
              "    </tr>\n",
              "  </thead>\n",
              "  <tbody>\n",
              "    <tr>\n",
              "      <th>0</th>\n",
              "      <td>False</td>\n",
              "      <td>26-100</td>\n",
              "      <td>True</td>\n",
              "      <td>True</td>\n",
              "      <td>I don't know</td>\n",
              "      <td>No</td>\n",
              "      <td>Yes</td>\n",
              "      <td>Yes</td>\n",
              "      <td>I don't know</td>\n",
              "      <td>Very easy</td>\n",
              "      <td>Physical health</td>\n",
              "      <td>Yes</td>\n",
              "      <td>False</td>\n",
              "      <td>Yes</td>\n",
              "      <td>True</td>\n",
              "      <td>True</td>\n",
              "      <td>5.0</td>\n",
              "      <td>5.0</td>\n",
              "      <td>True</td>\n",
              "      <td>False</td>\n",
              "      <td>I don't know</td>\n",
              "      <td>N/A (was not aware)</td>\n",
              "      <td>Some did</td>\n",
              "      <td>Yes, they all did</td>\n",
              "      <td>I don't know</td>\n",
              "      <td>Physical health</td>\n",
              "      <td>Some of my previous supervisors</td>\n",
              "      <td>False</td>\n",
              "      <td>At some of my previous employers</td>\n",
              "      <td>False</td>\n",
              "      <td>True</td>\n",
              "      <td>8.0</td>\n",
              "      <td>5.0</td>\n",
              "      <td>Don't Know</td>\n",
              "      <td>NaN</td>\n",
              "      <td>NaN</td>\n",
              "      <td>No</td>\n",
              "      <td>False</td>\n",
              "      <td>No</td>\n",
              "      <td>Not applicable to me</td>\n",
              "      <td>Not applicable to me</td>\n",
              "      <td>No</td>\n",
              "      <td>8</td>\n",
              "      <td>Yes</td>\n",
              "      <td>If it impacts work I would bring it up</td>\n",
              "      <td>Maybe</td>\n",
              "      <td>If I feel it's under control I likely wouldn't...</td>\n",
              "      <td>False</td>\n",
              "      <td>8</td>\n",
              "      <td>No</td>\n",
              "      <td>Maybe/Not sure</td>\n",
              "      <td>4</td>\n",
              "      <td>NaN</td>\n",
              "      <td>False</td>\n",
              "      <td>25</td>\n",
              "      <td>Male</td>\n",
              "      <td>United States of America</td>\n",
              "      <td>Nebraska</td>\n",
              "      <td>White</td>\n",
              "      <td>United States of America</td>\n",
              "      <td>Nebraska</td>\n",
              "    </tr>\n",
              "    <tr>\n",
              "      <th>1</th>\n",
              "      <td>False</td>\n",
              "      <td>26-100</td>\n",
              "      <td>True</td>\n",
              "      <td>True</td>\n",
              "      <td>Yes</td>\n",
              "      <td>No</td>\n",
              "      <td>No</td>\n",
              "      <td>Yes</td>\n",
              "      <td>Yes</td>\n",
              "      <td>I don't know</td>\n",
              "      <td>Physical health</td>\n",
              "      <td>Maybe</td>\n",
              "      <td>False</td>\n",
              "      <td>Maybe</td>\n",
              "      <td>True</td>\n",
              "      <td>True</td>\n",
              "      <td>5.0</td>\n",
              "      <td>7.0</td>\n",
              "      <td>True</td>\n",
              "      <td>False</td>\n",
              "      <td>Yes, they all did</td>\n",
              "      <td>I was aware of some</td>\n",
              "      <td>Some did</td>\n",
              "      <td>Some did</td>\n",
              "      <td>Yes, always</td>\n",
              "      <td>Physical health</td>\n",
              "      <td>Some of my previous supervisors</td>\n",
              "      <td>False</td>\n",
              "      <td>At some of my previous employers</td>\n",
              "      <td>True</td>\n",
              "      <td>True</td>\n",
              "      <td>8.0</td>\n",
              "      <td>5.0</td>\n",
              "      <td>Possibly</td>\n",
              "      <td>NaN</td>\n",
              "      <td>NaN</td>\n",
              "      <td>Possibly</td>\n",
              "      <td>False</td>\n",
              "      <td>Yes</td>\n",
              "      <td>Sometimes</td>\n",
              "      <td>Often</td>\n",
              "      <td>No</td>\n",
              "      <td>7</td>\n",
              "      <td>No</td>\n",
              "      <td>I do not trust that the potential employer wou...</td>\n",
              "      <td>No</td>\n",
              "      <td>I do not trust that the potential employer wou...</td>\n",
              "      <td>False</td>\n",
              "      <td>7</td>\n",
              "      <td>Yes, I observed</td>\n",
              "      <td>Yes, I experienced</td>\n",
              "      <td>1</td>\n",
              "      <td>NaN</td>\n",
              "      <td>False</td>\n",
              "      <td>51</td>\n",
              "      <td>male</td>\n",
              "      <td>United States of America</td>\n",
              "      <td>Nebraska</td>\n",
              "      <td>White</td>\n",
              "      <td>United States of America</td>\n",
              "      <td>Nebraska</td>\n",
              "    </tr>\n",
              "  </tbody>\n",
              "</table>\n",
              "</div>"
            ],
            "text/plain": [
              "   *Are you self-employed?*  ... What US state or territory do you *work* in?\n",
              "0                     False  ...                                     Nebraska\n",
              "1                     False  ...                                     Nebraska\n",
              "\n",
              "[2 rows x 61 columns]"
            ]
          },
          "metadata": {
            "tags": []
          },
          "execution_count": 5
        }
      ]
    },
    {
      "cell_type": "code",
      "metadata": {
        "id": "xmpkXVpzATSM",
        "colab_type": "code",
        "colab": {}
      },
      "source": [
        "\n",
        "def check_missing(column, check_df):\n",
        "    if(check_df[column].isnull().any()):\n",
        "        print(\"Number of rows having the NULL value in \",check_df,\" are \",check_df[column].isnull().sum())\n",
        "    else:\n",
        "        print(\"There is no NULL vale in the column\", column)\n",
        "\n",
        "def check_missing_all(check_df, verbose=False):\n",
        "    empty_list = []\n",
        "    for column in df.columns:\n",
        "        if(check_df[column].isnull().any()):\n",
        "            empty_rows = check_df[column].isnull().sum()\n",
        "            empty_list.append(empty_rows)\n",
        "            \n",
        "            if(verbose == True):\n",
        "                print(\"Number of rows having the NULL value in column %s are %d \" %(column, empty_rows))\n",
        "        else:\n",
        "            print(\"There is no NULL value in the column %s\" %(column))\n",
        "            empty_list.append(0)\n",
        "            \n",
        "    return empty_list\n",
        "\n",
        "def convert_columns(df):\n",
        "    ''' Given a dataframe numbers the columns'''\n",
        "    column_names = {}\n",
        "    start_i = 1\n",
        "    i = 1\n",
        "    for column_name in df.columns:\n",
        "        column_names[column_name] = str(i)\n",
        "        i += 1\n",
        "    \n",
        "    df.rename(column_names, axis=1, inplace=True)\n",
        "    print(\"Columns renamed strating with i = %d to i = %d\" %(start_i,i))\n",
        "    return df, column_names\n",
        "#         print(column_name)\n",
        "\n",
        "def clean_missing(df, column_list, empty_rows, percent_del=0.65):\n",
        "    ''' Given a percentage it will remove columns that have data missing below that percentage.'''\n",
        "    count = 0\n",
        "    dropped_columns = []\n",
        "    for i, column in enumerate(column_list):\n",
        "        calc_percent = empty_rows[i] / len(df)\n",
        "        if(calc_percent > percent_del):\n",
        "            df.drop([column], axis=1, inplace=True)\n",
        "            dropped_columns.append(column)\n",
        "            print(\"%s Column dropped \"%(column))\n",
        "            count += 1\n",
        "    \n",
        "    print(\"Number of columns dropped %d\"%(count))\n",
        "\n",
        "    return df, dropped_columns\n",
        "\n",
        "def encode_categorical(df, column_list):\n",
        "    ''' Encodes categorical column using Ordinal Encoder '''\n",
        "    for column in column_list:\n",
        "        df[column] = df[column].astype('str')\n",
        "        encoder = preprocessing.LabelEncoder()\n",
        "        encoded_list = encoder.fit_transform(df[column])\n",
        "#         print(encoded_list)\n",
        "#         print(len(encoded_list))\n",
        "        encoded_series = pd.Series(encoded_list)\n",
        "        df[column] = encoded_series\n",
        "        print(\"The \", column, \"is encoded \")\n",
        "        # Save the encoder so that we can do reverse transform\n",
        "        # joblib.dump(\"{}_enocder.pkl\".format(column), encoder)\n",
        "    return(df)\n",
        "\n",
        "# Numeric types need to do MinxMaxScaler\n",
        "def scale_data(df, column_list, index_list):\n",
        "    ''' Standardizes the data '''\n",
        "    for column in column_list:\n",
        "        df[column] = df[column].astype('float')\n",
        "        encoder = preprocessing.StandardScaler()\n",
        "        df[column] = encoder.fit_transform(df[column].values.reshape(-1,1))\n",
        "        print(\"The \",column, \"is encoded\")\n",
        "    return(df)\n"
      ],
      "execution_count": 0,
      "outputs": []
    },
    {
      "cell_type": "code",
      "metadata": {
        "id": "VvuuDliWAyk5",
        "colab_type": "code",
        "outputId": "9647eeba-af73-4d9d-baa9-2320872894f3",
        "colab": {
          "base_uri": "https://localhost:8080/",
          "height": 36
        }
      },
      "source": [
        "df, names = convert_columns(df)"
      ],
      "execution_count": 7,
      "outputs": [
        {
          "output_type": "stream",
          "text": [
            "Columns renamed strating with i = 1 to i = 62\n"
          ],
          "name": "stdout"
        }
      ]
    },
    {
      "cell_type": "code",
      "metadata": {
        "id": "0-8gnYlyBF1g",
        "colab_type": "code",
        "outputId": "638a25df-0ea1-4b93-921c-a3dead9e5746",
        "colab": {
          "base_uri": "https://localhost:8080/",
          "height": 521
        }
      },
      "source": [
        "df.head()"
      ],
      "execution_count": 8,
      "outputs": [
        {
          "output_type": "execute_result",
          "data": {
            "text/html": [
              "<div>\n",
              "<style scoped>\n",
              "    .dataframe tbody tr th:only-of-type {\n",
              "        vertical-align: middle;\n",
              "    }\n",
              "\n",
              "    .dataframe tbody tr th {\n",
              "        vertical-align: top;\n",
              "    }\n",
              "\n",
              "    .dataframe thead th {\n",
              "        text-align: right;\n",
              "    }\n",
              "</style>\n",
              "<table border=\"1\" class=\"dataframe\">\n",
              "  <thead>\n",
              "    <tr style=\"text-align: right;\">\n",
              "      <th></th>\n",
              "      <th>1</th>\n",
              "      <th>2</th>\n",
              "      <th>3</th>\n",
              "      <th>4</th>\n",
              "      <th>5</th>\n",
              "      <th>6</th>\n",
              "      <th>7</th>\n",
              "      <th>8</th>\n",
              "      <th>9</th>\n",
              "      <th>10</th>\n",
              "      <th>11</th>\n",
              "      <th>12</th>\n",
              "      <th>13</th>\n",
              "      <th>14</th>\n",
              "      <th>15</th>\n",
              "      <th>16</th>\n",
              "      <th>17</th>\n",
              "      <th>18</th>\n",
              "      <th>19</th>\n",
              "      <th>20</th>\n",
              "      <th>21</th>\n",
              "      <th>22</th>\n",
              "      <th>23</th>\n",
              "      <th>24</th>\n",
              "      <th>25</th>\n",
              "      <th>26</th>\n",
              "      <th>27</th>\n",
              "      <th>28</th>\n",
              "      <th>29</th>\n",
              "      <th>30</th>\n",
              "      <th>31</th>\n",
              "      <th>32</th>\n",
              "      <th>33</th>\n",
              "      <th>34</th>\n",
              "      <th>35</th>\n",
              "      <th>36</th>\n",
              "      <th>37</th>\n",
              "      <th>38</th>\n",
              "      <th>39</th>\n",
              "      <th>40</th>\n",
              "      <th>41</th>\n",
              "      <th>42</th>\n",
              "      <th>43</th>\n",
              "      <th>44</th>\n",
              "      <th>45</th>\n",
              "      <th>46</th>\n",
              "      <th>47</th>\n",
              "      <th>48</th>\n",
              "      <th>49</th>\n",
              "      <th>50</th>\n",
              "      <th>51</th>\n",
              "      <th>52</th>\n",
              "      <th>53</th>\n",
              "      <th>54</th>\n",
              "      <th>55</th>\n",
              "      <th>56</th>\n",
              "      <th>57</th>\n",
              "      <th>58</th>\n",
              "      <th>59</th>\n",
              "      <th>60</th>\n",
              "      <th>61</th>\n",
              "    </tr>\n",
              "  </thead>\n",
              "  <tbody>\n",
              "    <tr>\n",
              "      <th>0</th>\n",
              "      <td>False</td>\n",
              "      <td>26-100</td>\n",
              "      <td>True</td>\n",
              "      <td>True</td>\n",
              "      <td>I don't know</td>\n",
              "      <td>No</td>\n",
              "      <td>Yes</td>\n",
              "      <td>Yes</td>\n",
              "      <td>I don't know</td>\n",
              "      <td>Very easy</td>\n",
              "      <td>Physical health</td>\n",
              "      <td>Yes</td>\n",
              "      <td>False</td>\n",
              "      <td>Yes</td>\n",
              "      <td>True</td>\n",
              "      <td>True</td>\n",
              "      <td>5.0</td>\n",
              "      <td>5.0</td>\n",
              "      <td>True</td>\n",
              "      <td>False</td>\n",
              "      <td>I don't know</td>\n",
              "      <td>N/A (was not aware)</td>\n",
              "      <td>Some did</td>\n",
              "      <td>Yes, they all did</td>\n",
              "      <td>I don't know</td>\n",
              "      <td>Physical health</td>\n",
              "      <td>Some of my previous supervisors</td>\n",
              "      <td>False</td>\n",
              "      <td>At some of my previous employers</td>\n",
              "      <td>False</td>\n",
              "      <td>True</td>\n",
              "      <td>8.0</td>\n",
              "      <td>5.0</td>\n",
              "      <td>Don't Know</td>\n",
              "      <td>NaN</td>\n",
              "      <td>NaN</td>\n",
              "      <td>No</td>\n",
              "      <td>False</td>\n",
              "      <td>No</td>\n",
              "      <td>Not applicable to me</td>\n",
              "      <td>Not applicable to me</td>\n",
              "      <td>No</td>\n",
              "      <td>8</td>\n",
              "      <td>Yes</td>\n",
              "      <td>If it impacts work I would bring it up</td>\n",
              "      <td>Maybe</td>\n",
              "      <td>If I feel it's under control I likely wouldn't...</td>\n",
              "      <td>False</td>\n",
              "      <td>8</td>\n",
              "      <td>No</td>\n",
              "      <td>Maybe/Not sure</td>\n",
              "      <td>4</td>\n",
              "      <td>NaN</td>\n",
              "      <td>False</td>\n",
              "      <td>25</td>\n",
              "      <td>Male</td>\n",
              "      <td>United States of America</td>\n",
              "      <td>Nebraska</td>\n",
              "      <td>White</td>\n",
              "      <td>United States of America</td>\n",
              "      <td>Nebraska</td>\n",
              "    </tr>\n",
              "    <tr>\n",
              "      <th>1</th>\n",
              "      <td>False</td>\n",
              "      <td>26-100</td>\n",
              "      <td>True</td>\n",
              "      <td>True</td>\n",
              "      <td>Yes</td>\n",
              "      <td>No</td>\n",
              "      <td>No</td>\n",
              "      <td>Yes</td>\n",
              "      <td>Yes</td>\n",
              "      <td>I don't know</td>\n",
              "      <td>Physical health</td>\n",
              "      <td>Maybe</td>\n",
              "      <td>False</td>\n",
              "      <td>Maybe</td>\n",
              "      <td>True</td>\n",
              "      <td>True</td>\n",
              "      <td>5.0</td>\n",
              "      <td>7.0</td>\n",
              "      <td>True</td>\n",
              "      <td>False</td>\n",
              "      <td>Yes, they all did</td>\n",
              "      <td>I was aware of some</td>\n",
              "      <td>Some did</td>\n",
              "      <td>Some did</td>\n",
              "      <td>Yes, always</td>\n",
              "      <td>Physical health</td>\n",
              "      <td>Some of my previous supervisors</td>\n",
              "      <td>False</td>\n",
              "      <td>At some of my previous employers</td>\n",
              "      <td>True</td>\n",
              "      <td>True</td>\n",
              "      <td>8.0</td>\n",
              "      <td>5.0</td>\n",
              "      <td>Possibly</td>\n",
              "      <td>NaN</td>\n",
              "      <td>NaN</td>\n",
              "      <td>Possibly</td>\n",
              "      <td>False</td>\n",
              "      <td>Yes</td>\n",
              "      <td>Sometimes</td>\n",
              "      <td>Often</td>\n",
              "      <td>No</td>\n",
              "      <td>7</td>\n",
              "      <td>No</td>\n",
              "      <td>I do not trust that the potential employer wou...</td>\n",
              "      <td>No</td>\n",
              "      <td>I do not trust that the potential employer wou...</td>\n",
              "      <td>False</td>\n",
              "      <td>7</td>\n",
              "      <td>Yes, I observed</td>\n",
              "      <td>Yes, I experienced</td>\n",
              "      <td>1</td>\n",
              "      <td>NaN</td>\n",
              "      <td>False</td>\n",
              "      <td>51</td>\n",
              "      <td>male</td>\n",
              "      <td>United States of America</td>\n",
              "      <td>Nebraska</td>\n",
              "      <td>White</td>\n",
              "      <td>United States of America</td>\n",
              "      <td>Nebraska</td>\n",
              "    </tr>\n",
              "    <tr>\n",
              "      <th>2</th>\n",
              "      <td>False</td>\n",
              "      <td>26-100</td>\n",
              "      <td>True</td>\n",
              "      <td>True</td>\n",
              "      <td>I don't know</td>\n",
              "      <td>No</td>\n",
              "      <td>No</td>\n",
              "      <td>I don't know</td>\n",
              "      <td>I don't know</td>\n",
              "      <td>Somewhat difficult</td>\n",
              "      <td>Same level of comfort for each</td>\n",
              "      <td>No</td>\n",
              "      <td>False</td>\n",
              "      <td>Maybe</td>\n",
              "      <td>True</td>\n",
              "      <td>True</td>\n",
              "      <td>5.0</td>\n",
              "      <td>4.0</td>\n",
              "      <td>True</td>\n",
              "      <td>True</td>\n",
              "      <td>I don't know</td>\n",
              "      <td>N/A (was not aware)</td>\n",
              "      <td>None did</td>\n",
              "      <td>None did</td>\n",
              "      <td>I don't know</td>\n",
              "      <td>Physical health</td>\n",
              "      <td>No, none of my previous supervisors</td>\n",
              "      <td>False</td>\n",
              "      <td>No, at none of my previous employers</td>\n",
              "      <td>False</td>\n",
              "      <td>False</td>\n",
              "      <td>10.0</td>\n",
              "      <td>2.0</td>\n",
              "      <td>No</td>\n",
              "      <td>NaN</td>\n",
              "      <td>NaN</td>\n",
              "      <td>No</td>\n",
              "      <td>False</td>\n",
              "      <td>I don't know</td>\n",
              "      <td>Not applicable to me</td>\n",
              "      <td>Not applicable to me</td>\n",
              "      <td>No</td>\n",
              "      <td>4</td>\n",
              "      <td>Maybe</td>\n",
              "      <td>It depends on its applicability to my job and ...</td>\n",
              "      <td>No</td>\n",
              "      <td>The stigma attached to mental health and not k...</td>\n",
              "      <td>False</td>\n",
              "      <td>4</td>\n",
              "      <td>Maybe/Not sure</td>\n",
              "      <td>Yes, I observed</td>\n",
              "      <td>2</td>\n",
              "      <td>I think opening up more conversation around th...</td>\n",
              "      <td>True</td>\n",
              "      <td>27</td>\n",
              "      <td>Male</td>\n",
              "      <td>United States of America</td>\n",
              "      <td>Illinois</td>\n",
              "      <td>White</td>\n",
              "      <td>United States of America</td>\n",
              "      <td>Illinois</td>\n",
              "    </tr>\n",
              "    <tr>\n",
              "      <th>3</th>\n",
              "      <td>False</td>\n",
              "      <td>100-500</td>\n",
              "      <td>True</td>\n",
              "      <td>True</td>\n",
              "      <td>I don't know</td>\n",
              "      <td>No</td>\n",
              "      <td>Yes</td>\n",
              "      <td>Yes</td>\n",
              "      <td>Yes</td>\n",
              "      <td>Very easy</td>\n",
              "      <td>Physical health</td>\n",
              "      <td>Yes</td>\n",
              "      <td>False</td>\n",
              "      <td>Maybe</td>\n",
              "      <td>False</td>\n",
              "      <td>True</td>\n",
              "      <td>1.0</td>\n",
              "      <td>3.0</td>\n",
              "      <td>True</td>\n",
              "      <td>True</td>\n",
              "      <td>I don't know</td>\n",
              "      <td>N/A (was not aware)</td>\n",
              "      <td>Some did</td>\n",
              "      <td>Some did</td>\n",
              "      <td>Yes, always</td>\n",
              "      <td>Physical health</td>\n",
              "      <td>Some of my previous supervisors</td>\n",
              "      <td>False</td>\n",
              "      <td>At some of my previous employers</td>\n",
              "      <td>False</td>\n",
              "      <td>True</td>\n",
              "      <td>3.0</td>\n",
              "      <td>1.0</td>\n",
              "      <td>No</td>\n",
              "      <td>NaN</td>\n",
              "      <td>NaN</td>\n",
              "      <td>No</td>\n",
              "      <td>False</td>\n",
              "      <td>Yes</td>\n",
              "      <td>Not applicable to me</td>\n",
              "      <td>Not applicable to me</td>\n",
              "      <td>No</td>\n",
              "      <td>3</td>\n",
              "      <td>No</td>\n",
              "      <td>discrimination/bias</td>\n",
              "      <td>No</td>\n",
              "      <td>discrimination/bias</td>\n",
              "      <td>False</td>\n",
              "      <td>8</td>\n",
              "      <td>No</td>\n",
              "      <td>Yes, I observed</td>\n",
              "      <td>3</td>\n",
              "      <td>NaN</td>\n",
              "      <td>False</td>\n",
              "      <td>37</td>\n",
              "      <td>male</td>\n",
              "      <td>United States of America</td>\n",
              "      <td>Nebraska</td>\n",
              "      <td>White</td>\n",
              "      <td>United States of America</td>\n",
              "      <td>Nebraska</td>\n",
              "    </tr>\n",
              "    <tr>\n",
              "      <th>4</th>\n",
              "      <td>False</td>\n",
              "      <td>26-100</td>\n",
              "      <td>True</td>\n",
              "      <td>True</td>\n",
              "      <td>I don't know</td>\n",
              "      <td>No</td>\n",
              "      <td>I don't know</td>\n",
              "      <td>I don't know</td>\n",
              "      <td>I don't know</td>\n",
              "      <td>I don't know</td>\n",
              "      <td>Physical health</td>\n",
              "      <td>No</td>\n",
              "      <td>False</td>\n",
              "      <td>No</td>\n",
              "      <td>False</td>\n",
              "      <td>False</td>\n",
              "      <td>4.0</td>\n",
              "      <td>4.0</td>\n",
              "      <td>True</td>\n",
              "      <td>True</td>\n",
              "      <td>I don't know</td>\n",
              "      <td>N/A (was not aware)</td>\n",
              "      <td>None did</td>\n",
              "      <td>None did</td>\n",
              "      <td>I don't know</td>\n",
              "      <td>Physical health</td>\n",
              "      <td>No, none of my previous supervisors</td>\n",
              "      <td>False</td>\n",
              "      <td>No, at none of my previous employers</td>\n",
              "      <td>False</td>\n",
              "      <td>False</td>\n",
              "      <td>4.0</td>\n",
              "      <td>4.0</td>\n",
              "      <td>No</td>\n",
              "      <td>NaN</td>\n",
              "      <td>NaN</td>\n",
              "      <td>No</td>\n",
              "      <td>False</td>\n",
              "      <td>No</td>\n",
              "      <td>Not applicable to me</td>\n",
              "      <td>Not applicable to me</td>\n",
              "      <td>NaN</td>\n",
              "      <td>1</td>\n",
              "      <td>No</td>\n",
              "      <td>NaN</td>\n",
              "      <td>No</td>\n",
              "      <td>NaN</td>\n",
              "      <td>False</td>\n",
              "      <td>5</td>\n",
              "      <td>No</td>\n",
              "      <td>No</td>\n",
              "      <td>3</td>\n",
              "      <td>NaN</td>\n",
              "      <td>False</td>\n",
              "      <td>46</td>\n",
              "      <td>m</td>\n",
              "      <td>United States of America</td>\n",
              "      <td>Nebraska</td>\n",
              "      <td>White</td>\n",
              "      <td>United States of America</td>\n",
              "      <td>Nebraska</td>\n",
              "    </tr>\n",
              "  </tbody>\n",
              "</table>\n",
              "</div>"
            ],
            "text/plain": [
              "       1        2     3  ...     59                        60        61\n",
              "0  False   26-100  True  ...  White  United States of America  Nebraska\n",
              "1  False   26-100  True  ...  White  United States of America  Nebraska\n",
              "2  False   26-100  True  ...  White  United States of America  Illinois\n",
              "3  False  100-500  True  ...  White  United States of America  Nebraska\n",
              "4  False   26-100  True  ...  White  United States of America  Nebraska\n",
              "\n",
              "[5 rows x 61 columns]"
            ]
          },
          "metadata": {
            "tags": []
          },
          "execution_count": 8
        }
      ]
    },
    {
      "cell_type": "code",
      "metadata": {
        "id": "xE2hVEbIBRNZ",
        "colab_type": "code",
        "outputId": "b1b90703-9e57-4561-a52b-dead72789979",
        "colab": {
          "base_uri": "https://localhost:8080/",
          "height": 1000
        }
      },
      "source": [
        "pprint(names)"
      ],
      "execution_count": 9,
      "outputs": [
        {
          "output_type": "stream",
          "text": [
            "{'*Are you self-employed?*': '1',\n",
            " '*Do you have previous employers?*': '19',\n",
            " '*If so, what disorder(s) were you diagnosed with?*': '36',\n",
            " 'Are you openly identified at work as a person with a mental health issue?': '48',\n",
            " 'Briefly describe what you think the industry as a whole and/or employers could do to improve mental health support for employees.': '53',\n",
            " 'Did you ever discuss your mental health with a previous coworker(s)?': '30',\n",
            " 'Did you ever discuss your mental health with your previous employer?': '28',\n",
            " \"Did you ever have a previous coworker discuss their or another coworker's mental health with you?\": '31',\n",
            " 'Did your previous employers ever formally discuss mental health (as part of a wellness campaign or other official communication)?': '23',\n",
            " 'Did your previous employers provide resources to learn more about mental health disorders and how to seek help?': '24',\n",
            " 'Do you *currently* have a mental health disorder?': '34',\n",
            " 'Do you have a family history of mental illness?': '39',\n",
            " 'Do you know the options for mental health care available under your employer-provided health coverage?': '6',\n",
            " 'Does your employer offer resources to learn more about mental health disorders and options for seeking help?': '8',\n",
            " 'Does your employer provide mental health benefits as part of healthcare coverage?': '5',\n",
            " 'Has your employer ever formally discussed mental health (for example, as part of a wellness campaign or other official communication)?': '7',\n",
            " 'Have you ever been *diagnosed* with a mental health disorder?': '35',\n",
            " 'Have you ever discussed your mental health with coworkers?': '15',\n",
            " 'Have you ever discussed your mental health with your employer?': '13',\n",
            " \"Have you ever had a coworker discuss their or another coworker's mental health with you?\": '16',\n",
            " 'Have you ever sought treatment for a mental health disorder from a mental health professional?': '38',\n",
            " 'Have you had a mental health disorder in the past?': '37',\n",
            " 'Have you observed or experienced a *supportive or well handled response* to a mental health issue in your current or previous workplace?': '51',\n",
            " 'Have you observed or experienced an *unsupportive or badly handled response* to a mental health issue in your current or previous workplace?': '50',\n",
            " 'Have your observations of how another individual who discussed a mental health issue made you less likely to reveal a mental health issue yourself in your current workplace?': '42',\n",
            " 'Have your previous employers provided mental health benefits?': '21',\n",
            " 'How many employees does your company or organization have?': '2',\n",
            " 'How willing would you be to share with friends and family that you have a mental illness?': '43',\n",
            " 'If a mental health issue prompted you to request a medical leave from work, how easy or difficult would it be to ask for that leave?': '10',\n",
            " 'If they knew you suffered from a mental health disorder, how do you think that your team members/co-workers would react?': '49',\n",
            " 'If you have a mental health disorder, how often do you feel that it interferes with your work *when being treated effectively?*': '40',\n",
            " 'If you have a mental health disorder, how often do you feel that it interferes with your work *when* _*NOT*_* being treated effectively (i.e., when you are experiencing symptoms)?*': '41',\n",
            " 'Is your anonymity protected if you choose to take advantage of mental health or substance abuse treatment resources provided by your employer?': '9',\n",
            " 'Is your employer primarily a tech company/organization?': '3',\n",
            " 'Is your primary role within your company related to tech/IT?': '4',\n",
            " 'Overall, how much importance did your previous employer place on mental health?': '33',\n",
            " 'Overall, how much importance did your previous employer place on physical health?': '32',\n",
            " 'Overall, how much importance does your employer place on mental health?': '18',\n",
            " 'Overall, how much importance does your employer place on physical health?': '17',\n",
            " 'Overall, how well do you think the tech industry supports employees with mental health issues?': '52',\n",
            " 'Was your anonymity protected if you chose to take advantage of mental health or substance abuse treatment resources with previous employers?': '25',\n",
            " 'Was your employer primarily a tech company/organization?': '20',\n",
            " 'Were you aware of the options for mental health care provided by your previous employers?': '22',\n",
            " 'What US state or territory do you *live* in?': '58',\n",
            " 'What US state or territory do you *work* in?': '61',\n",
            " 'What country do you *live* in?': '57',\n",
            " 'What country do you *work* in?': '60',\n",
            " 'What is your age?': '55',\n",
            " 'What is your gender?': '56',\n",
            " 'What is your race?': '59',\n",
            " 'Why or why not?': '45',\n",
            " 'Why or why not?.1': '47',\n",
            " 'Would you be willing to bring up a physical health issue with a potential employer in an interview?': '44',\n",
            " 'Would you be willing to talk to one of us more extensively about your experiences with mental health issues in the tech industry? (Note that all interview responses would be used _anonymously_ and only with your permission.)': '54',\n",
            " 'Would you bring up your *mental* health with a potential employer in an interview?': '46',\n",
            " 'Would you feel comfortable discussing a mental health issue with your coworkers?': '14',\n",
            " 'Would you feel comfortable discussing a mental health issue with your direct supervisor(s)?': '12',\n",
            " 'Would you feel more comfortable talking to your coworkers about your physical health or your mental health?': '11',\n",
            " 'Would you have been willing to discuss your mental health with your coworkers at previous employers?': '29',\n",
            " 'Would you have been willing to discuss your mental health with your direct supervisor(s)?': '27',\n",
            " 'Would you have felt more comfortable talking to your previous employer about your physical health or your mental health?': '26'}\n"
          ],
          "name": "stdout"
        }
      ]
    },
    {
      "cell_type": "code",
      "metadata": {
        "id": "HVE9wvK7B-Ju",
        "colab_type": "code",
        "colab": {}
      },
      "source": [
        "# drop some columns that are highly NLP based\n",
        "df.drop([\"35\", \"36\", \"45\", \"47\", \"53\"], axis=1, inplace=True)"
      ],
      "execution_count": 0,
      "outputs": []
    },
    {
      "cell_type": "markdown",
      "metadata": {
        "id": "HawOdVvYEiZB",
        "colab_type": "text"
      },
      "source": [
        " 'Have you ever sought treatment for a mental health disorder from a mental health professional?': '38',"
      ]
    },
    {
      "cell_type": "markdown",
      "metadata": {
        "id": "4l_OGsXIEn-G",
        "colab_type": "text"
      },
      "source": [
        " 'Would you bring up your *mental* health with a potential employer in an interview?': '46',"
      ]
    },
    {
      "cell_type": "code",
      "metadata": {
        "id": "dDBgdr2GBCc_",
        "colab_type": "code",
        "colab": {
          "base_uri": "https://localhost:8080/",
          "height": 841
        },
        "outputId": "406b400f-a47f-424c-f174-48203b00376a"
      },
      "source": [
        "categorical_columns = ['1', \"2\", '3','4','5','6','7','8', '9' ,'10', \"11\", \"12\", \"13\", \"21\", \"22\", \"34\", \"37\",\n",
        "                       \"14\", \"15\", \"16\", \"19\", \"20\", \"23\", \"24\", \"25\", \"26\",  \"27\" , \"28\", \"29\",\n",
        "                       \"40\", \"41\", \"42\", \"44\", \"46\", \"39\", \"48\", \"56\", \"57\", \"58\", \"59\", \"60\", \"61\",\n",
        "                       \"50\", \"51\"] # just showing a sample of columns. We will extend this to all categorical columns.\n",
        "df = encode_categorical(df, categorical_columns)"
      ],
      "execution_count": 11,
      "outputs": [
        {
          "output_type": "stream",
          "text": [
            "The  1 is encoded \n",
            "The  2 is encoded \n",
            "The  3 is encoded \n",
            "The  4 is encoded \n",
            "The  5 is encoded \n",
            "The  6 is encoded \n",
            "The  7 is encoded \n",
            "The  8 is encoded \n",
            "The  9 is encoded \n",
            "The  10 is encoded \n",
            "The  11 is encoded \n",
            "The  12 is encoded \n",
            "The  13 is encoded \n",
            "The  21 is encoded \n",
            "The  22 is encoded \n",
            "The  34 is encoded \n",
            "The  37 is encoded \n",
            "The  14 is encoded \n",
            "The  15 is encoded \n",
            "The  16 is encoded \n",
            "The  19 is encoded \n",
            "The  20 is encoded \n",
            "The  23 is encoded \n",
            "The  24 is encoded \n",
            "The  25 is encoded \n",
            "The  26 is encoded \n",
            "The  27 is encoded \n",
            "The  28 is encoded \n",
            "The  29 is encoded \n",
            "The  40 is encoded \n",
            "The  41 is encoded \n",
            "The  42 is encoded \n",
            "The  44 is encoded \n",
            "The  46 is encoded \n",
            "The  39 is encoded \n",
            "The  48 is encoded \n",
            "The  56 is encoded \n",
            "The  57 is encoded \n",
            "The  58 is encoded \n",
            "The  59 is encoded \n",
            "The  60 is encoded \n",
            "The  61 is encoded \n",
            "The  50 is encoded \n",
            "The  51 is encoded \n"
          ],
          "name": "stdout"
        }
      ]
    },
    {
      "cell_type": "code",
      "metadata": {
        "id": "9ZnOTpIaFUE3",
        "colab_type": "code",
        "outputId": "32e4ed71-66e3-4deb-e09b-02b45bdab23c",
        "colab": {
          "base_uri": "https://localhost:8080/",
          "height": 226
        }
      },
      "source": [
        "df.head()"
      ],
      "execution_count": 12,
      "outputs": [
        {
          "output_type": "execute_result",
          "data": {
            "text/html": [
              "<div>\n",
              "<style scoped>\n",
              "    .dataframe tbody tr th:only-of-type {\n",
              "        vertical-align: middle;\n",
              "    }\n",
              "\n",
              "    .dataframe tbody tr th {\n",
              "        vertical-align: top;\n",
              "    }\n",
              "\n",
              "    .dataframe thead th {\n",
              "        text-align: right;\n",
              "    }\n",
              "</style>\n",
              "<table border=\"1\" class=\"dataframe\">\n",
              "  <thead>\n",
              "    <tr style=\"text-align: right;\">\n",
              "      <th></th>\n",
              "      <th>1</th>\n",
              "      <th>2</th>\n",
              "      <th>3</th>\n",
              "      <th>4</th>\n",
              "      <th>5</th>\n",
              "      <th>6</th>\n",
              "      <th>7</th>\n",
              "      <th>8</th>\n",
              "      <th>9</th>\n",
              "      <th>10</th>\n",
              "      <th>11</th>\n",
              "      <th>12</th>\n",
              "      <th>13</th>\n",
              "      <th>14</th>\n",
              "      <th>15</th>\n",
              "      <th>16</th>\n",
              "      <th>17</th>\n",
              "      <th>18</th>\n",
              "      <th>19</th>\n",
              "      <th>20</th>\n",
              "      <th>21</th>\n",
              "      <th>22</th>\n",
              "      <th>23</th>\n",
              "      <th>24</th>\n",
              "      <th>25</th>\n",
              "      <th>26</th>\n",
              "      <th>27</th>\n",
              "      <th>28</th>\n",
              "      <th>29</th>\n",
              "      <th>30</th>\n",
              "      <th>31</th>\n",
              "      <th>32</th>\n",
              "      <th>33</th>\n",
              "      <th>34</th>\n",
              "      <th>37</th>\n",
              "      <th>38</th>\n",
              "      <th>39</th>\n",
              "      <th>40</th>\n",
              "      <th>41</th>\n",
              "      <th>42</th>\n",
              "      <th>43</th>\n",
              "      <th>44</th>\n",
              "      <th>46</th>\n",
              "      <th>48</th>\n",
              "      <th>49</th>\n",
              "      <th>50</th>\n",
              "      <th>51</th>\n",
              "      <th>52</th>\n",
              "      <th>54</th>\n",
              "      <th>55</th>\n",
              "      <th>56</th>\n",
              "      <th>57</th>\n",
              "      <th>58</th>\n",
              "      <th>59</th>\n",
              "      <th>60</th>\n",
              "      <th>61</th>\n",
              "    </tr>\n",
              "  </thead>\n",
              "  <tbody>\n",
              "    <tr>\n",
              "      <th>0</th>\n",
              "      <td>0</td>\n",
              "      <td>2</td>\n",
              "      <td>1</td>\n",
              "      <td>1</td>\n",
              "      <td>0</td>\n",
              "      <td>0</td>\n",
              "      <td>2</td>\n",
              "      <td>2</td>\n",
              "      <td>0</td>\n",
              "      <td>5</td>\n",
              "      <td>1</td>\n",
              "      <td>2</td>\n",
              "      <td>0</td>\n",
              "      <td>2</td>\n",
              "      <td>1</td>\n",
              "      <td>1</td>\n",
              "      <td>5.0</td>\n",
              "      <td>5.0</td>\n",
              "      <td>1</td>\n",
              "      <td>0</td>\n",
              "      <td>0</td>\n",
              "      <td>2</td>\n",
              "      <td>2</td>\n",
              "      <td>2</td>\n",
              "      <td>0</td>\n",
              "      <td>1</td>\n",
              "      <td>2</td>\n",
              "      <td>0</td>\n",
              "      <td>0</td>\n",
              "      <td>False</td>\n",
              "      <td>True</td>\n",
              "      <td>8.0</td>\n",
              "      <td>5.0</td>\n",
              "      <td>0</td>\n",
              "      <td>1</td>\n",
              "      <td>False</td>\n",
              "      <td>1</td>\n",
              "      <td>1</td>\n",
              "      <td>1</td>\n",
              "      <td>1</td>\n",
              "      <td>8</td>\n",
              "      <td>2</td>\n",
              "      <td>0</td>\n",
              "      <td>0</td>\n",
              "      <td>8</td>\n",
              "      <td>2</td>\n",
              "      <td>1</td>\n",
              "      <td>4</td>\n",
              "      <td>False</td>\n",
              "      <td>25</td>\n",
              "      <td>17</td>\n",
              "      <td>31</td>\n",
              "      <td>21</td>\n",
              "      <td>7</td>\n",
              "      <td>33</td>\n",
              "      <td>21</td>\n",
              "    </tr>\n",
              "    <tr>\n",
              "      <th>1</th>\n",
              "      <td>0</td>\n",
              "      <td>2</td>\n",
              "      <td>1</td>\n",
              "      <td>1</td>\n",
              "      <td>3</td>\n",
              "      <td>0</td>\n",
              "      <td>1</td>\n",
              "      <td>2</td>\n",
              "      <td>2</td>\n",
              "      <td>1</td>\n",
              "      <td>1</td>\n",
              "      <td>0</td>\n",
              "      <td>0</td>\n",
              "      <td>0</td>\n",
              "      <td>1</td>\n",
              "      <td>1</td>\n",
              "      <td>5.0</td>\n",
              "      <td>7.0</td>\n",
              "      <td>1</td>\n",
              "      <td>0</td>\n",
              "      <td>3</td>\n",
              "      <td>0</td>\n",
              "      <td>2</td>\n",
              "      <td>1</td>\n",
              "      <td>3</td>\n",
              "      <td>1</td>\n",
              "      <td>2</td>\n",
              "      <td>0</td>\n",
              "      <td>0</td>\n",
              "      <td>True</td>\n",
              "      <td>True</td>\n",
              "      <td>8.0</td>\n",
              "      <td>5.0</td>\n",
              "      <td>2</td>\n",
              "      <td>2</td>\n",
              "      <td>False</td>\n",
              "      <td>2</td>\n",
              "      <td>4</td>\n",
              "      <td>2</td>\n",
              "      <td>1</td>\n",
              "      <td>7</td>\n",
              "      <td>1</td>\n",
              "      <td>1</td>\n",
              "      <td>0</td>\n",
              "      <td>7</td>\n",
              "      <td>4</td>\n",
              "      <td>3</td>\n",
              "      <td>1</td>\n",
              "      <td>False</td>\n",
              "      <td>51</td>\n",
              "      <td>37</td>\n",
              "      <td>31</td>\n",
              "      <td>21</td>\n",
              "      <td>7</td>\n",
              "      <td>33</td>\n",
              "      <td>21</td>\n",
              "    </tr>\n",
              "    <tr>\n",
              "      <th>2</th>\n",
              "      <td>0</td>\n",
              "      <td>2</td>\n",
              "      <td>1</td>\n",
              "      <td>1</td>\n",
              "      <td>0</td>\n",
              "      <td>0</td>\n",
              "      <td>1</td>\n",
              "      <td>0</td>\n",
              "      <td>0</td>\n",
              "      <td>3</td>\n",
              "      <td>2</td>\n",
              "      <td>1</td>\n",
              "      <td>0</td>\n",
              "      <td>0</td>\n",
              "      <td>1</td>\n",
              "      <td>1</td>\n",
              "      <td>5.0</td>\n",
              "      <td>4.0</td>\n",
              "      <td>1</td>\n",
              "      <td>1</td>\n",
              "      <td>0</td>\n",
              "      <td>2</td>\n",
              "      <td>1</td>\n",
              "      <td>0</td>\n",
              "      <td>0</td>\n",
              "      <td>1</td>\n",
              "      <td>1</td>\n",
              "      <td>0</td>\n",
              "      <td>1</td>\n",
              "      <td>False</td>\n",
              "      <td>False</td>\n",
              "      <td>10.0</td>\n",
              "      <td>2.0</td>\n",
              "      <td>1</td>\n",
              "      <td>1</td>\n",
              "      <td>False</td>\n",
              "      <td>0</td>\n",
              "      <td>1</td>\n",
              "      <td>1</td>\n",
              "      <td>1</td>\n",
              "      <td>4</td>\n",
              "      <td>0</td>\n",
              "      <td>1</td>\n",
              "      <td>0</td>\n",
              "      <td>4</td>\n",
              "      <td>1</td>\n",
              "      <td>4</td>\n",
              "      <td>2</td>\n",
              "      <td>True</td>\n",
              "      <td>27</td>\n",
              "      <td>17</td>\n",
              "      <td>31</td>\n",
              "      <td>10</td>\n",
              "      <td>7</td>\n",
              "      <td>33</td>\n",
              "      <td>10</td>\n",
              "    </tr>\n",
              "    <tr>\n",
              "      <th>3</th>\n",
              "      <td>0</td>\n",
              "      <td>1</td>\n",
              "      <td>1</td>\n",
              "      <td>1</td>\n",
              "      <td>0</td>\n",
              "      <td>0</td>\n",
              "      <td>2</td>\n",
              "      <td>2</td>\n",
              "      <td>2</td>\n",
              "      <td>5</td>\n",
              "      <td>1</td>\n",
              "      <td>2</td>\n",
              "      <td>0</td>\n",
              "      <td>0</td>\n",
              "      <td>0</td>\n",
              "      <td>1</td>\n",
              "      <td>1.0</td>\n",
              "      <td>3.0</td>\n",
              "      <td>1</td>\n",
              "      <td>1</td>\n",
              "      <td>0</td>\n",
              "      <td>2</td>\n",
              "      <td>2</td>\n",
              "      <td>1</td>\n",
              "      <td>3</td>\n",
              "      <td>1</td>\n",
              "      <td>2</td>\n",
              "      <td>0</td>\n",
              "      <td>0</td>\n",
              "      <td>False</td>\n",
              "      <td>True</td>\n",
              "      <td>3.0</td>\n",
              "      <td>1.0</td>\n",
              "      <td>1</td>\n",
              "      <td>1</td>\n",
              "      <td>False</td>\n",
              "      <td>2</td>\n",
              "      <td>1</td>\n",
              "      <td>1</td>\n",
              "      <td>1</td>\n",
              "      <td>3</td>\n",
              "      <td>1</td>\n",
              "      <td>1</td>\n",
              "      <td>0</td>\n",
              "      <td>8</td>\n",
              "      <td>2</td>\n",
              "      <td>4</td>\n",
              "      <td>3</td>\n",
              "      <td>False</td>\n",
              "      <td>37</td>\n",
              "      <td>37</td>\n",
              "      <td>31</td>\n",
              "      <td>21</td>\n",
              "      <td>7</td>\n",
              "      <td>33</td>\n",
              "      <td>21</td>\n",
              "    </tr>\n",
              "    <tr>\n",
              "      <th>4</th>\n",
              "      <td>0</td>\n",
              "      <td>2</td>\n",
              "      <td>1</td>\n",
              "      <td>1</td>\n",
              "      <td>0</td>\n",
              "      <td>0</td>\n",
              "      <td>0</td>\n",
              "      <td>0</td>\n",
              "      <td>0</td>\n",
              "      <td>1</td>\n",
              "      <td>1</td>\n",
              "      <td>1</td>\n",
              "      <td>0</td>\n",
              "      <td>1</td>\n",
              "      <td>0</td>\n",
              "      <td>0</td>\n",
              "      <td>4.0</td>\n",
              "      <td>4.0</td>\n",
              "      <td>1</td>\n",
              "      <td>1</td>\n",
              "      <td>0</td>\n",
              "      <td>2</td>\n",
              "      <td>1</td>\n",
              "      <td>0</td>\n",
              "      <td>0</td>\n",
              "      <td>1</td>\n",
              "      <td>1</td>\n",
              "      <td>0</td>\n",
              "      <td>1</td>\n",
              "      <td>False</td>\n",
              "      <td>False</td>\n",
              "      <td>4.0</td>\n",
              "      <td>4.0</td>\n",
              "      <td>1</td>\n",
              "      <td>1</td>\n",
              "      <td>False</td>\n",
              "      <td>1</td>\n",
              "      <td>1</td>\n",
              "      <td>1</td>\n",
              "      <td>3</td>\n",
              "      <td>1</td>\n",
              "      <td>1</td>\n",
              "      <td>1</td>\n",
              "      <td>0</td>\n",
              "      <td>5</td>\n",
              "      <td>2</td>\n",
              "      <td>2</td>\n",
              "      <td>3</td>\n",
              "      <td>False</td>\n",
              "      <td>46</td>\n",
              "      <td>36</td>\n",
              "      <td>31</td>\n",
              "      <td>21</td>\n",
              "      <td>7</td>\n",
              "      <td>33</td>\n",
              "      <td>21</td>\n",
              "    </tr>\n",
              "  </tbody>\n",
              "</table>\n",
              "</div>"
            ],
            "text/plain": [
              "   1  2  3  4  5  6  7  8  9  10  ...  51  52     54  55  56  57  58  59  60  61\n",
              "0  0  2  1  1  0  0  2  2  0   5  ...   1   4  False  25  17  31  21   7  33  21\n",
              "1  0  2  1  1  3  0  1  2  2   1  ...   3   1  False  51  37  31  21   7  33  21\n",
              "2  0  2  1  1  0  0  1  0  0   3  ...   4   2   True  27  17  31  10   7  33  10\n",
              "3  0  1  1  1  0  0  2  2  2   5  ...   4   3  False  37  37  31  21   7  33  21\n",
              "4  0  2  1  1  0  0  0  0  0   1  ...   2   3  False  46  36  31  21   7  33  21\n",
              "\n",
              "[5 rows x 56 columns]"
            ]
          },
          "metadata": {
            "tags": []
          },
          "execution_count": 12
        }
      ]
    },
    {
      "cell_type": "markdown",
      "metadata": {
        "id": "AmWqSeNAGw-L",
        "colab_type": "text"
      },
      "source": [
        "# Let us now try to predict a few questions"
      ]
    },
    {
      "cell_type": "markdown",
      "metadata": {
        "colab_type": "text",
        "id": "dka2O_cWG2rA"
      },
      "source": [
        " 'Have you ever sought treatment for a mental health disorder from a mental health professional?': '38',"
      ]
    },
    {
      "cell_type": "markdown",
      "metadata": {
        "colab_type": "text",
        "id": "AA5iK9GFG2rF"
      },
      "source": [
        " 'Would you bring up your *mental* health with a potential employer in an interview?': '46',"
      ]
    },
    {
      "cell_type": "markdown",
      "metadata": {
        "id": "yS4044dOG5ur",
        "colab_type": "text"
      },
      "source": [
        "- We wanted to optimize the sensitivity so let us use simple techniques such as logitic regression and decision trees first"
      ]
    },
    {
      "cell_type": "code",
      "metadata": {
        "id": "PRAztM4ZG3h6",
        "colab_type": "code",
        "colab": {}
      },
      "source": [
        "# Given all the features has the person ever sougth for mental health disorder."
      ],
      "execution_count": 0,
      "outputs": []
    },
    {
      "cell_type": "code",
      "metadata": {
        "id": "MgUSqoGLppWP",
        "colab_type": "code",
        "colab": {}
      },
      "source": [
        "df.fillna(value=-1, inplace=True)"
      ],
      "execution_count": 0,
      "outputs": []
    },
    {
      "cell_type": "code",
      "metadata": {
        "id": "77Uc8m8YIq3d",
        "colab_type": "code",
        "colab": {}
      },
      "source": [
        "# Since column 38 was the above feature\n",
        "y = df[\"38\"] \n",
        "X = df.drop([\"38\"], axis=1)"
      ],
      "execution_count": 0,
      "outputs": []
    },
    {
      "cell_type": "code",
      "metadata": {
        "id": "M19YU1-nHEwu",
        "colab_type": "code",
        "colab": {}
      },
      "source": [
        "X_train, X_test, y_train, y_test = train_test_split(X, y, test_size=0.2, random_state=42)"
      ],
      "execution_count": 0,
      "outputs": []
    },
    {
      "cell_type": "code",
      "metadata": {
        "id": "NzZvxV-LJAtf",
        "colab_type": "code",
        "colab": {}
      },
      "source": [
        "# Random forest classifier depends on Bagging \n",
        "from sklearn.ensemble import RandomForestClassifier\n",
        "from sklearn.ensemble import GradientBoostingClassifier\n",
        "from sklearn import naive_bayes"
      ],
      "execution_count": 0,
      "outputs": []
    },
    {
      "cell_type": "code",
      "metadata": {
        "id": "3FSg5TZTJOin",
        "colab_type": "code",
        "colab": {
          "base_uri": "https://localhost:8080/",
          "height": 167
        },
        "outputId": "366b7464-4ebf-4f27-a5b3-f50678650230"
      },
      "source": [
        "clf = RandomForestClassifier(max_depth=5, random_state=0)\n",
        "clf.fit(X_train, y_train)"
      ],
      "execution_count": 23,
      "outputs": [
        {
          "output_type": "execute_result",
          "data": {
            "text/plain": [
              "RandomForestClassifier(bootstrap=True, ccp_alpha=0.0, class_weight=None,\n",
              "                       criterion='gini', max_depth=5, max_features='auto',\n",
              "                       max_leaf_nodes=None, max_samples=None,\n",
              "                       min_impurity_decrease=0.0, min_impurity_split=None,\n",
              "                       min_samples_leaf=1, min_samples_split=2,\n",
              "                       min_weight_fraction_leaf=0.0, n_estimators=100,\n",
              "                       n_jobs=None, oob_score=False, random_state=0, verbose=0,\n",
              "                       warm_start=False)"
            ]
          },
          "metadata": {
            "tags": []
          },
          "execution_count": 23
        }
      ]
    },
    {
      "cell_type": "code",
      "metadata": {
        "id": "WYBV479aqlUo",
        "colab_type": "code",
        "colab": {
          "base_uri": "https://localhost:8080/",
          "height": 36
        },
        "outputId": "f5fbb96e-3c34-4f05-cb22-9f776dc887bf"
      },
      "source": [
        "clf.score(X_train, y_train)"
      ],
      "execution_count": 24,
      "outputs": [
        {
          "output_type": "execute_result",
          "data": {
            "text/plain": [
              "0.9572953736654805"
            ]
          },
          "metadata": {
            "tags": []
          },
          "execution_count": 24
        }
      ]
    },
    {
      "cell_type": "markdown",
      "metadata": {
        "id": "bddEihfbqoVO",
        "colab_type": "text"
      },
      "source": [
        "We get decent accuracy without much feature engineering and simple data cleaning"
      ]
    },
    {
      "cell_type": "code",
      "metadata": {
        "id": "48FoKHYgsStW",
        "colab_type": "code",
        "colab": {
          "base_uri": "https://localhost:8080/",
          "height": 36
        },
        "outputId": "f4de2b18-ee12-445e-b979-2a4ee2a44681"
      },
      "source": [
        "# Slightly overfitting\n",
        "clf.score(X_test, y_test)"
      ],
      "execution_count": 28,
      "outputs": [
        {
          "output_type": "execute_result",
          "data": {
            "text/plain": [
              "0.8309859154929577"
            ]
          },
          "metadata": {
            "tags": []
          },
          "execution_count": 28
        }
      ]
    },
    {
      "cell_type": "code",
      "metadata": {
        "id": "yjmR35jnJSXb",
        "colab_type": "code",
        "colab": {
          "base_uri": "https://localhost:8080/",
          "height": 167
        },
        "outputId": "81a6411b-8823-4380-8b93-f79387bf5826"
      },
      "source": [
        "pprint(metrics.classification_report(y_test, clf.predict(X_test)))"
      ],
      "execution_count": 26,
      "outputs": [
        {
          "output_type": "stream",
          "text": [
            "('              precision    recall  f1-score   support\\n'\n",
            " '\\n'\n",
            " '       False       0.75      0.81      0.78        26\\n'\n",
            " '        True       0.88      0.84      0.86        45\\n'\n",
            " '\\n'\n",
            " '    accuracy                           0.83        71\\n'\n",
            " '   macro avg       0.82      0.83      0.82        71\\n'\n",
            " 'weighted avg       0.83      0.83      0.83        71\\n')\n"
          ],
          "name": "stdout"
        }
      ]
    },
    {
      "cell_type": "code",
      "metadata": {
        "id": "4-YyjI6mr_xw",
        "colab_type": "code",
        "colab": {
          "base_uri": "https://localhost:8080/",
          "height": 204
        },
        "outputId": "9f67f111-bfdb-4f8f-a92c-fdfcf1323891"
      },
      "source": [
        "# Boosting approach\n",
        "clf = GradientBoostingClassifier(learning_rate=0.1, n_estimators=20, max_depth=5,)\n",
        "clf.fit(X_train, y_train)"
      ],
      "execution_count": 46,
      "outputs": [
        {
          "output_type": "execute_result",
          "data": {
            "text/plain": [
              "GradientBoostingClassifier(ccp_alpha=0.0, criterion='friedman_mse', init=None,\n",
              "                           learning_rate=0.1, loss='deviance', max_depth=5,\n",
              "                           max_features=None, max_leaf_nodes=None,\n",
              "                           min_impurity_decrease=0.0, min_impurity_split=None,\n",
              "                           min_samples_leaf=1, min_samples_split=2,\n",
              "                           min_weight_fraction_leaf=0.0, n_estimators=20,\n",
              "                           n_iter_no_change=None, presort='deprecated',\n",
              "                           random_state=None, subsample=1.0, tol=0.0001,\n",
              "                           validation_fraction=0.1, verbose=0,\n",
              "                           warm_start=False)"
            ]
          },
          "metadata": {
            "tags": []
          },
          "execution_count": 46
        }
      ]
    },
    {
      "cell_type": "code",
      "metadata": {
        "id": "__127ZPEsaZD",
        "colab_type": "code",
        "colab": {
          "base_uri": "https://localhost:8080/",
          "height": 36
        },
        "outputId": "4d2c10fd-4e37-44fa-867c-77b64721d183"
      },
      "source": [
        "# Overfits very easily\n",
        "clf.score(X_train, y_train)"
      ],
      "execution_count": 47,
      "outputs": [
        {
          "output_type": "execute_result",
          "data": {
            "text/plain": [
              "0.99644128113879"
            ]
          },
          "metadata": {
            "tags": []
          },
          "execution_count": 47
        }
      ]
    },
    {
      "cell_type": "code",
      "metadata": {
        "id": "zKOhRzmVsYwM",
        "colab_type": "code",
        "colab": {
          "base_uri": "https://localhost:8080/",
          "height": 36
        },
        "outputId": "1f0e190f-1456-451b-d88b-65282f02a9e5"
      },
      "source": [
        "clf.score(X_test, y_test)"
      ],
      "execution_count": 48,
      "outputs": [
        {
          "output_type": "execute_result",
          "data": {
            "text/plain": [
              "0.7464788732394366"
            ]
          },
          "metadata": {
            "tags": []
          },
          "execution_count": 48
        }
      ]
    },
    {
      "cell_type": "code",
      "metadata": {
        "id": "xxLAqT76s11L",
        "colab_type": "code",
        "colab": {
          "base_uri": "https://localhost:8080/",
          "height": 167
        },
        "outputId": "75b048b3-5e46-4bc9-e1b7-ffdced364516"
      },
      "source": [
        "pprint(metrics.classification_report(y_test, clf.predict(X_test)))"
      ],
      "execution_count": 49,
      "outputs": [
        {
          "output_type": "stream",
          "text": [
            "('              precision    recall  f1-score   support\\n'\n",
            " '\\n'\n",
            " '       False       0.64      0.69      0.67        26\\n'\n",
            " '        True       0.81      0.78      0.80        45\\n'\n",
            " '\\n'\n",
            " '    accuracy                           0.75        71\\n'\n",
            " '   macro avg       0.73      0.74      0.73        71\\n'\n",
            " 'weighted avg       0.75      0.75      0.75        71\\n')\n"
          ],
          "name": "stdout"
        }
      ]
    },
    {
      "cell_type": "code",
      "metadata": {
        "id": "k2965gN7rwga",
        "colab_type": "code",
        "colab": {}
      },
      "source": [
        "# Let us try with Naive Bayes as these columns look kinda independent"
      ],
      "execution_count": 0,
      "outputs": []
    },
    {
      "cell_type": "code",
      "metadata": {
        "id": "InWdsVh2syrx",
        "colab_type": "code",
        "colab": {}
      },
      "source": [
        "clf = naive_bayes.GaussianNB()"
      ],
      "execution_count": 0,
      "outputs": []
    },
    {
      "cell_type": "code",
      "metadata": {
        "id": "wkO7mT2ruP30",
        "colab_type": "code",
        "colab": {
          "base_uri": "https://localhost:8080/",
          "height": 36
        },
        "outputId": "7533690e-63e2-4acc-cadc-915f9d15c510"
      },
      "source": [
        "clf.fit(X_train, y_train)"
      ],
      "execution_count": 55,
      "outputs": [
        {
          "output_type": "execute_result",
          "data": {
            "text/plain": [
              "GaussianNB(priors=None, var_smoothing=1e-09)"
            ]
          },
          "metadata": {
            "tags": []
          },
          "execution_count": 55
        }
      ]
    },
    {
      "cell_type": "code",
      "metadata": {
        "id": "tnU9W5nzudHZ",
        "colab_type": "code",
        "colab": {
          "base_uri": "https://localhost:8080/",
          "height": 36
        },
        "outputId": "84a63943-0cb1-4f11-d2ac-42e0f6c0f5e5"
      },
      "source": [
        "clf.score(X_train, y_train)"
      ],
      "execution_count": 57,
      "outputs": [
        {
          "output_type": "execute_result",
          "data": {
            "text/plain": [
              "0.8149466192170819"
            ]
          },
          "metadata": {
            "tags": []
          },
          "execution_count": 57
        }
      ]
    },
    {
      "cell_type": "code",
      "metadata": {
        "id": "RawkJxKwuSNa",
        "colab_type": "code",
        "colab": {
          "base_uri": "https://localhost:8080/",
          "height": 36
        },
        "outputId": "88a92c0d-45f7-4ba0-bd1c-56954fef24f7"
      },
      "source": [
        "clf.score(X_test, y_test)"
      ],
      "execution_count": 56,
      "outputs": [
        {
          "output_type": "execute_result",
          "data": {
            "text/plain": [
              "0.7887323943661971"
            ]
          },
          "metadata": {
            "tags": []
          },
          "execution_count": 56
        }
      ]
    },
    {
      "cell_type": "code",
      "metadata": {
        "id": "8PgcfwBhucLi",
        "colab_type": "code",
        "colab": {
          "base_uri": "https://localhost:8080/",
          "height": 167
        },
        "outputId": "03419e53-81e2-43d1-ce81-a812c63108ac"
      },
      "source": [
        "pprint(metrics.classification_report(y_test, clf.predict(X_test)))"
      ],
      "execution_count": 58,
      "outputs": [
        {
          "output_type": "stream",
          "text": [
            "('              precision    recall  f1-score   support\\n'\n",
            " '\\n'\n",
            " '       False       0.70      0.73      0.72        26\\n'\n",
            " '        True       0.84      0.82      0.83        45\\n'\n",
            " '\\n'\n",
            " '    accuracy                           0.79        71\\n'\n",
            " '   macro avg       0.77      0.78      0.77        71\\n'\n",
            " 'weighted avg       0.79      0.79      0.79        71\\n')\n"
          ],
          "name": "stdout"
        }
      ]
    }
  ]
}